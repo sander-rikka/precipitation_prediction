{
 "cells": [
  {
   "cell_type": "code",
   "id": "initial_id",
   "metadata": {
    "collapsed": true,
    "ExecuteTime": {
     "end_time": "2025-02-17T13:53:24.357368Z",
     "start_time": "2025-02-17T13:53:24.352361Z"
    }
   },
   "source": [
    "from datetime import datetime\n",
    "import pandas as pd\n",
    "import numpy as np\n",
    "# from src.models.avely_lstm import simple_lstm_v1, train_model, test_model\n",
    "from tensorflow.keras.models import Sequential\n",
    "from tensorflow.keras.layers import LSTM, Dense, Reshape, Input\n",
    "from tensorflow.keras.losses import categorical_crossentropy\n",
    "from keras.callbacks import EarlyStopping, ModelCheckpoint, ReduceLROnPlateau"
   ],
   "outputs": [],
   "execution_count": 17
  },
  {
   "metadata": {
    "ExecuteTime": {
     "end_time": "2025-02-17T13:43:02.672484Z",
     "start_time": "2025-02-17T13:43:02.404048Z"
    }
   },
   "cell_type": "code",
   "source": [
    "df = pd.read_csv('../hiiu_liivi_data.csv')\n",
    "df = df.dropna()\n",
    "df = df[df['WindSpeed'] > 2]\n",
    "df"
   ],
   "id": "cf9ff842007d1ca7",
   "outputs": [
    {
     "data": {
      "text/plain": [
       "                  Datetime  0.084686  0.094604  0.104523  0.114441  0.124359  \\\n",
       "0      2023-04-12 00:37:00  0.016039  0.015662  0.010723  0.010873  0.007623   \n",
       "1      2023-04-12 00:59:00  0.198702  0.092199  0.024175  0.036656  0.058582   \n",
       "2      2023-04-12 01:21:00  0.001898  0.001239  0.000962  0.000775  0.002440   \n",
       "3      2023-04-12 01:43:00  0.001042  0.001539  0.001203  0.000404  0.000654   \n",
       "4      2023-04-12 02:04:00  0.000872  0.001263  0.000459  0.000685  0.000260   \n",
       "...                    ...       ...       ...       ...       ...       ...   \n",
       "13945  2023-07-31 18:50:00  0.000719  0.000172  0.000289  0.000206  0.000301   \n",
       "13946  2023-07-31 19:12:00  0.000428  0.000133  0.000429  0.000212  0.000265   \n",
       "13947  2023-07-31 19:34:00  0.000521  0.000945  0.000268  0.000411  0.000485   \n",
       "13948  2023-07-31 19:55:00  0.000333  0.000383  0.000238  0.000226  0.000800   \n",
       "13949  2023-07-31 20:17:00  0.000251  0.000381  0.000294  0.000371  0.000360   \n",
       "\n",
       "       0.134277  0.144196  0.154114  0.164032  ...  number    step  surface  \\\n",
       "0      0.010862  0.007251  0.003676  0.003972  ...       0  0 days      0.0   \n",
       "1      0.058957  0.028536  0.006233  0.007652  ...       0  0 days      0.0   \n",
       "2      0.001671  0.000502  0.001834  0.033752  ...       0  0 days      0.0   \n",
       "3      0.003298  0.000675  0.028470  0.017767  ...       0  0 days      0.0   \n",
       "4      0.004026  0.011854  0.009877  0.007712  ...       0  0 days      0.0   \n",
       "...         ...       ...       ...       ...  ...     ...     ...      ...   \n",
       "13945  0.000571  0.000519  0.002890  0.002223  ...       0  0 days      0.0   \n",
       "13946  0.001172  0.001698  0.002249  0.002895  ...       0  0 days      0.0   \n",
       "13947  0.001409  0.002094  0.002652  0.003487  ...       0  0 days      0.0   \n",
       "13948  0.001408  0.003670  0.003389  0.003109  ...       0  0 days      0.0   \n",
       "13949  0.000752  0.000826  0.005826  0.006240  ...       0  0 days      0.0   \n",
       "\n",
       "                valid_time        ERA5_Datetime  WindSpeed  \\\n",
       "0      2023-04-12 00:00:00  2023-04-12 01:00:00   6.546383   \n",
       "1      2023-04-12 00:00:00  2023-04-12 01:00:00   6.546383   \n",
       "2      2023-04-12 01:00:00  2023-04-12 01:00:00   6.546383   \n",
       "3      2023-04-12 01:00:00  2023-04-12 02:00:00   6.351250   \n",
       "4      2023-04-12 02:00:00  2023-04-12 02:00:00   6.351250   \n",
       "...                    ...                  ...        ...   \n",
       "13945  2023-07-31 18:00:00  2023-07-31 19:00:00   7.475164   \n",
       "13946  2023-07-31 19:00:00  2023-07-31 19:00:00   7.475164   \n",
       "13947  2023-07-31 19:00:00  2023-07-31 20:00:00   7.371202   \n",
       "13948  2023-07-31 19:00:00  2023-07-31 20:00:00   7.371202   \n",
       "13949  2023-07-31 20:00:00  2023-07-31 20:00:00   7.371202   \n",
       "\n",
       "       MeanSeaLevelPressure  Temperature  Latitude  Longitude  \n",
       "0                101208.420    278.89926     59.08     21.274  \n",
       "1                101208.420    278.89926     59.08     21.274  \n",
       "2                101208.420    278.89926     59.08     21.274  \n",
       "3                101204.510    278.53810     59.33     21.024  \n",
       "4                101204.510    278.53810     59.33     21.024  \n",
       "...                     ...          ...       ...        ...  \n",
       "13945            100350.984    291.05814     59.08     21.024  \n",
       "13946            100350.984    291.05814     59.08     21.024  \n",
       "13947            100351.960    290.91284     59.08     21.024  \n",
       "13948            100351.960    290.91284     59.08     21.024  \n",
       "13949            100351.960    290.91284     59.08     21.024  \n",
       "\n",
       "[12583 rows x 112 columns]"
      ],
      "text/html": [
       "<div>\n",
       "<style scoped>\n",
       "    .dataframe tbody tr th:only-of-type {\n",
       "        vertical-align: middle;\n",
       "    }\n",
       "\n",
       "    .dataframe tbody tr th {\n",
       "        vertical-align: top;\n",
       "    }\n",
       "\n",
       "    .dataframe thead th {\n",
       "        text-align: right;\n",
       "    }\n",
       "</style>\n",
       "<table border=\"1\" class=\"dataframe\">\n",
       "  <thead>\n",
       "    <tr style=\"text-align: right;\">\n",
       "      <th></th>\n",
       "      <th>Datetime</th>\n",
       "      <th>0.084686</th>\n",
       "      <th>0.094604</th>\n",
       "      <th>0.104523</th>\n",
       "      <th>0.114441</th>\n",
       "      <th>0.124359</th>\n",
       "      <th>0.134277</th>\n",
       "      <th>0.144196</th>\n",
       "      <th>0.154114</th>\n",
       "      <th>0.164032</th>\n",
       "      <th>...</th>\n",
       "      <th>number</th>\n",
       "      <th>step</th>\n",
       "      <th>surface</th>\n",
       "      <th>valid_time</th>\n",
       "      <th>ERA5_Datetime</th>\n",
       "      <th>WindSpeed</th>\n",
       "      <th>MeanSeaLevelPressure</th>\n",
       "      <th>Temperature</th>\n",
       "      <th>Latitude</th>\n",
       "      <th>Longitude</th>\n",
       "    </tr>\n",
       "  </thead>\n",
       "  <tbody>\n",
       "    <tr>\n",
       "      <th>0</th>\n",
       "      <td>2023-04-12 00:37:00</td>\n",
       "      <td>0.016039</td>\n",
       "      <td>0.015662</td>\n",
       "      <td>0.010723</td>\n",
       "      <td>0.010873</td>\n",
       "      <td>0.007623</td>\n",
       "      <td>0.010862</td>\n",
       "      <td>0.007251</td>\n",
       "      <td>0.003676</td>\n",
       "      <td>0.003972</td>\n",
       "      <td>...</td>\n",
       "      <td>0</td>\n",
       "      <td>0 days</td>\n",
       "      <td>0.0</td>\n",
       "      <td>2023-04-12 00:00:00</td>\n",
       "      <td>2023-04-12 01:00:00</td>\n",
       "      <td>6.546383</td>\n",
       "      <td>101208.420</td>\n",
       "      <td>278.89926</td>\n",
       "      <td>59.08</td>\n",
       "      <td>21.274</td>\n",
       "    </tr>\n",
       "    <tr>\n",
       "      <th>1</th>\n",
       "      <td>2023-04-12 00:59:00</td>\n",
       "      <td>0.198702</td>\n",
       "      <td>0.092199</td>\n",
       "      <td>0.024175</td>\n",
       "      <td>0.036656</td>\n",
       "      <td>0.058582</td>\n",
       "      <td>0.058957</td>\n",
       "      <td>0.028536</td>\n",
       "      <td>0.006233</td>\n",
       "      <td>0.007652</td>\n",
       "      <td>...</td>\n",
       "      <td>0</td>\n",
       "      <td>0 days</td>\n",
       "      <td>0.0</td>\n",
       "      <td>2023-04-12 00:00:00</td>\n",
       "      <td>2023-04-12 01:00:00</td>\n",
       "      <td>6.546383</td>\n",
       "      <td>101208.420</td>\n",
       "      <td>278.89926</td>\n",
       "      <td>59.08</td>\n",
       "      <td>21.274</td>\n",
       "    </tr>\n",
       "    <tr>\n",
       "      <th>2</th>\n",
       "      <td>2023-04-12 01:21:00</td>\n",
       "      <td>0.001898</td>\n",
       "      <td>0.001239</td>\n",
       "      <td>0.000962</td>\n",
       "      <td>0.000775</td>\n",
       "      <td>0.002440</td>\n",
       "      <td>0.001671</td>\n",
       "      <td>0.000502</td>\n",
       "      <td>0.001834</td>\n",
       "      <td>0.033752</td>\n",
       "      <td>...</td>\n",
       "      <td>0</td>\n",
       "      <td>0 days</td>\n",
       "      <td>0.0</td>\n",
       "      <td>2023-04-12 01:00:00</td>\n",
       "      <td>2023-04-12 01:00:00</td>\n",
       "      <td>6.546383</td>\n",
       "      <td>101208.420</td>\n",
       "      <td>278.89926</td>\n",
       "      <td>59.08</td>\n",
       "      <td>21.274</td>\n",
       "    </tr>\n",
       "    <tr>\n",
       "      <th>3</th>\n",
       "      <td>2023-04-12 01:43:00</td>\n",
       "      <td>0.001042</td>\n",
       "      <td>0.001539</td>\n",
       "      <td>0.001203</td>\n",
       "      <td>0.000404</td>\n",
       "      <td>0.000654</td>\n",
       "      <td>0.003298</td>\n",
       "      <td>0.000675</td>\n",
       "      <td>0.028470</td>\n",
       "      <td>0.017767</td>\n",
       "      <td>...</td>\n",
       "      <td>0</td>\n",
       "      <td>0 days</td>\n",
       "      <td>0.0</td>\n",
       "      <td>2023-04-12 01:00:00</td>\n",
       "      <td>2023-04-12 02:00:00</td>\n",
       "      <td>6.351250</td>\n",
       "      <td>101204.510</td>\n",
       "      <td>278.53810</td>\n",
       "      <td>59.33</td>\n",
       "      <td>21.024</td>\n",
       "    </tr>\n",
       "    <tr>\n",
       "      <th>4</th>\n",
       "      <td>2023-04-12 02:04:00</td>\n",
       "      <td>0.000872</td>\n",
       "      <td>0.001263</td>\n",
       "      <td>0.000459</td>\n",
       "      <td>0.000685</td>\n",
       "      <td>0.000260</td>\n",
       "      <td>0.004026</td>\n",
       "      <td>0.011854</td>\n",
       "      <td>0.009877</td>\n",
       "      <td>0.007712</td>\n",
       "      <td>...</td>\n",
       "      <td>0</td>\n",
       "      <td>0 days</td>\n",
       "      <td>0.0</td>\n",
       "      <td>2023-04-12 02:00:00</td>\n",
       "      <td>2023-04-12 02:00:00</td>\n",
       "      <td>6.351250</td>\n",
       "      <td>101204.510</td>\n",
       "      <td>278.53810</td>\n",
       "      <td>59.33</td>\n",
       "      <td>21.024</td>\n",
       "    </tr>\n",
       "    <tr>\n",
       "      <th>...</th>\n",
       "      <td>...</td>\n",
       "      <td>...</td>\n",
       "      <td>...</td>\n",
       "      <td>...</td>\n",
       "      <td>...</td>\n",
       "      <td>...</td>\n",
       "      <td>...</td>\n",
       "      <td>...</td>\n",
       "      <td>...</td>\n",
       "      <td>...</td>\n",
       "      <td>...</td>\n",
       "      <td>...</td>\n",
       "      <td>...</td>\n",
       "      <td>...</td>\n",
       "      <td>...</td>\n",
       "      <td>...</td>\n",
       "      <td>...</td>\n",
       "      <td>...</td>\n",
       "      <td>...</td>\n",
       "      <td>...</td>\n",
       "      <td>...</td>\n",
       "    </tr>\n",
       "    <tr>\n",
       "      <th>13945</th>\n",
       "      <td>2023-07-31 18:50:00</td>\n",
       "      <td>0.000719</td>\n",
       "      <td>0.000172</td>\n",
       "      <td>0.000289</td>\n",
       "      <td>0.000206</td>\n",
       "      <td>0.000301</td>\n",
       "      <td>0.000571</td>\n",
       "      <td>0.000519</td>\n",
       "      <td>0.002890</td>\n",
       "      <td>0.002223</td>\n",
       "      <td>...</td>\n",
       "      <td>0</td>\n",
       "      <td>0 days</td>\n",
       "      <td>0.0</td>\n",
       "      <td>2023-07-31 18:00:00</td>\n",
       "      <td>2023-07-31 19:00:00</td>\n",
       "      <td>7.475164</td>\n",
       "      <td>100350.984</td>\n",
       "      <td>291.05814</td>\n",
       "      <td>59.08</td>\n",
       "      <td>21.024</td>\n",
       "    </tr>\n",
       "    <tr>\n",
       "      <th>13946</th>\n",
       "      <td>2023-07-31 19:12:00</td>\n",
       "      <td>0.000428</td>\n",
       "      <td>0.000133</td>\n",
       "      <td>0.000429</td>\n",
       "      <td>0.000212</td>\n",
       "      <td>0.000265</td>\n",
       "      <td>0.001172</td>\n",
       "      <td>0.001698</td>\n",
       "      <td>0.002249</td>\n",
       "      <td>0.002895</td>\n",
       "      <td>...</td>\n",
       "      <td>0</td>\n",
       "      <td>0 days</td>\n",
       "      <td>0.0</td>\n",
       "      <td>2023-07-31 19:00:00</td>\n",
       "      <td>2023-07-31 19:00:00</td>\n",
       "      <td>7.475164</td>\n",
       "      <td>100350.984</td>\n",
       "      <td>291.05814</td>\n",
       "      <td>59.08</td>\n",
       "      <td>21.024</td>\n",
       "    </tr>\n",
       "    <tr>\n",
       "      <th>13947</th>\n",
       "      <td>2023-07-31 19:34:00</td>\n",
       "      <td>0.000521</td>\n",
       "      <td>0.000945</td>\n",
       "      <td>0.000268</td>\n",
       "      <td>0.000411</td>\n",
       "      <td>0.000485</td>\n",
       "      <td>0.001409</td>\n",
       "      <td>0.002094</td>\n",
       "      <td>0.002652</td>\n",
       "      <td>0.003487</td>\n",
       "      <td>...</td>\n",
       "      <td>0</td>\n",
       "      <td>0 days</td>\n",
       "      <td>0.0</td>\n",
       "      <td>2023-07-31 19:00:00</td>\n",
       "      <td>2023-07-31 20:00:00</td>\n",
       "      <td>7.371202</td>\n",
       "      <td>100351.960</td>\n",
       "      <td>290.91284</td>\n",
       "      <td>59.08</td>\n",
       "      <td>21.024</td>\n",
       "    </tr>\n",
       "    <tr>\n",
       "      <th>13948</th>\n",
       "      <td>2023-07-31 19:55:00</td>\n",
       "      <td>0.000333</td>\n",
       "      <td>0.000383</td>\n",
       "      <td>0.000238</td>\n",
       "      <td>0.000226</td>\n",
       "      <td>0.000800</td>\n",
       "      <td>0.001408</td>\n",
       "      <td>0.003670</td>\n",
       "      <td>0.003389</td>\n",
       "      <td>0.003109</td>\n",
       "      <td>...</td>\n",
       "      <td>0</td>\n",
       "      <td>0 days</td>\n",
       "      <td>0.0</td>\n",
       "      <td>2023-07-31 19:00:00</td>\n",
       "      <td>2023-07-31 20:00:00</td>\n",
       "      <td>7.371202</td>\n",
       "      <td>100351.960</td>\n",
       "      <td>290.91284</td>\n",
       "      <td>59.08</td>\n",
       "      <td>21.024</td>\n",
       "    </tr>\n",
       "    <tr>\n",
       "      <th>13949</th>\n",
       "      <td>2023-07-31 20:17:00</td>\n",
       "      <td>0.000251</td>\n",
       "      <td>0.000381</td>\n",
       "      <td>0.000294</td>\n",
       "      <td>0.000371</td>\n",
       "      <td>0.000360</td>\n",
       "      <td>0.000752</td>\n",
       "      <td>0.000826</td>\n",
       "      <td>0.005826</td>\n",
       "      <td>0.006240</td>\n",
       "      <td>...</td>\n",
       "      <td>0</td>\n",
       "      <td>0 days</td>\n",
       "      <td>0.0</td>\n",
       "      <td>2023-07-31 20:00:00</td>\n",
       "      <td>2023-07-31 20:00:00</td>\n",
       "      <td>7.371202</td>\n",
       "      <td>100351.960</td>\n",
       "      <td>290.91284</td>\n",
       "      <td>59.08</td>\n",
       "      <td>21.024</td>\n",
       "    </tr>\n",
       "  </tbody>\n",
       "</table>\n",
       "<p>12583 rows × 112 columns</p>\n",
       "</div>"
      ]
     },
     "execution_count": 2,
     "metadata": {},
     "output_type": "execute_result"
    }
   ],
   "execution_count": 2
  },
  {
   "metadata": {
    "ExecuteTime": {
     "end_time": "2025-02-17T13:43:03.696126Z",
     "start_time": "2025-02-17T13:43:03.672288Z"
    }
   },
   "cell_type": "code",
   "source": [
    "\n",
    "train_data = df.sample(frac=0.75, random_state=137)\n",
    "test_data = df.drop(train_data.index)\n",
    "\n",
    "train_feature = train_data.copy()\n",
    "test_feature = test_data.copy()\n",
    "\n",
    "train_labels = train_feature.pop('WindSpeed')\n",
    "test_labels = test_feature.pop('WindSpeed')\n",
    "\n",
    "train_feature = train_feature.drop(\n",
    "    columns=['Datetime',\n",
    "        'time',\n",
    "             'latitude',\n",
    "             'longitude',\n",
    "             'u10',\n",
    "             'v10',\n",
    "             't2m',\n",
    "             'msl',\n",
    "             'meanSea',\n",
    "             'number',\n",
    "             'step',\n",
    "             'surface',\n",
    "             'valid_time',\n",
    "             'ERA5_Datetime',\n",
    "             'MeanSeaLevelPressure',\n",
    "             'Temperature',\n",
    "             'Latitude',\n",
    "             'Longitude'])\n",
    "test_feature = test_feature.drop(\n",
    "    columns=['Datetime',\n",
    "        'time',\n",
    "             'latitude',\n",
    "             'longitude',\n",
    "             'u10',\n",
    "             'v10',\n",
    "             't2m',\n",
    "             'msl',\n",
    "             'meanSea',\n",
    "             'number',\n",
    "             'step',\n",
    "             'surface',\n",
    "             'valid_time',\n",
    "             'ERA5_Datetime',\n",
    "             'MeanSeaLevelPressure',\n",
    "             'Temperature',\n",
    "             'Latitude',\n",
    "             'Longitude'])\n"
   ],
   "id": "6248944d338f7792",
   "outputs": [],
   "execution_count": 3
  },
  {
   "metadata": {
    "ExecuteTime": {
     "end_time": "2025-02-17T13:43:03.766849Z",
     "start_time": "2025-02-17T13:43:03.746651Z"
    }
   },
   "cell_type": "code",
   "source": [
    "data_train = np.log(train_feature.values)\n",
    "data_test = np.log(test_feature.values)\n",
    "infs_train = np.argwhere(np.isinf(data_train))\n",
    "inf_test = np.argwhere(np.isinf(data_test))\n",
    "\n",
    "infs_train_unique = np.unique(infs_train[:, 0])\n",
    "infs_test_unique = np.unique(inf_test[:, 0])\n",
    "infs_train_unique"
   ],
   "id": "130f32059e84b28b",
   "outputs": [
    {
     "name": "stderr",
     "output_type": "stream",
     "text": [
      "C:\\Users\\Admin\\AppData\\Local\\Temp\\ipykernel_25944\\3690231962.py:1: RuntimeWarning: divide by zero encountered in log\n",
      "  data_train = np.log(train_feature.values)\n",
      "C:\\Users\\Admin\\AppData\\Local\\Temp\\ipykernel_25944\\3690231962.py:2: RuntimeWarning: divide by zero encountered in log\n",
      "  data_test = np.log(test_feature.values)\n"
     ]
    },
    {
     "data": {
      "text/plain": [
       "array([ 619,  660,  867,  890,  902,  973, 1245, 1399, 1462, 1602, 1604,\n",
       "       1664, 1789, 2035, 2081, 2267, 2447, 2816, 2934, 3145, 3390, 3418,\n",
       "       3480, 3527, 3634, 3698, 3796, 4225, 4250, 4459, 4558, 4677, 5058,\n",
       "       5575, 6259, 6487, 6616, 7004, 7063, 7440, 7799, 8352, 8384, 8484,\n",
       "       8766, 9289, 9291])"
      ]
     },
     "execution_count": 4,
     "metadata": {},
     "output_type": "execute_result"
    }
   ],
   "execution_count": 4
  },
  {
   "metadata": {
    "ExecuteTime": {
     "end_time": "2025-02-17T13:43:04.100722Z",
     "start_time": "2025-02-17T13:43:04.093839Z"
    }
   },
   "cell_type": "code",
   "source": "train_labels.values",
   "id": "287cbf1aa8de637a",
   "outputs": [
    {
     "data": {
      "text/plain": [
       "array([9.9215416 , 4.82027294, 5.80527029, ..., 3.23704917, 2.33800229,\n",
       "       4.45706545])"
      ]
     },
     "execution_count": 5,
     "metadata": {},
     "output_type": "execute_result"
    }
   ],
   "execution_count": 5
  },
  {
   "metadata": {
    "ExecuteTime": {
     "end_time": "2025-02-17T13:43:04.345709Z",
     "start_time": "2025-02-17T13:43:04.328041Z"
    }
   },
   "cell_type": "code",
   "source": [
    "# data_train = np.log(train_feature.values)\n",
    "data_train = np.delete(data_train, infs_train_unique, axis=0)\n",
    "data_train_reshape = data_train.reshape(data_train.shape[0], 1, data_train.shape[1])\n",
    "label_train = np.delete(train_labels.values, infs_train_unique, axis=0)\n",
    "\n",
    "# data_test = np.log(test_feature.values)\n",
    "data_test = np.delete(data_test, infs_test_unique, axis=0)\n",
    "data_test_reshape = data_test.reshape(data_test.shape[0], 1, data_test.shape[1])\n",
    "label_test = np.delete(test_labels.values, infs_test_unique, axis=0)"
   ],
   "id": "cdd31697b5973905",
   "outputs": [],
   "execution_count": 6
  },
  {
   "metadata": {
    "ExecuteTime": {
     "end_time": "2025-02-17T13:43:04.407378Z",
     "start_time": "2025-02-17T13:43:04.402883Z"
    }
   },
   "cell_type": "code",
   "source": "print(data_train_reshape.shape, label_train.shape)",
   "id": "3b449eb94a19321f",
   "outputs": [
    {
     "name": "stdout",
     "output_type": "stream",
     "text": [
      "(9390, 1, 93) (9390,)\n"
     ]
    }
   ],
   "execution_count": 7
  },
  {
   "metadata": {
    "ExecuteTime": {
     "end_time": "2025-02-17T13:43:07.181933Z",
     "start_time": "2025-02-17T13:43:07.178395Z"
    }
   },
   "cell_type": "code",
   "source": "print(data_test_reshape.shape, label_test.shape)",
   "id": "d55802174c7b29f9",
   "outputs": [
    {
     "name": "stdout",
     "output_type": "stream",
     "text": [
      "(3122, 1, 93) (3122,)\n"
     ]
    }
   ],
   "execution_count": 8
  },
  {
   "metadata": {},
   "cell_type": "markdown",
   "source": "# training",
   "id": "a73b6d5840670910"
  },
  {
   "metadata": {},
   "cell_type": "markdown",
   "source": "# Training",
   "id": "df70e108e6605218"
  },
  {
   "metadata": {
    "ExecuteTime": {
     "end_time": "2025-02-17T13:54:01.683213Z",
     "start_time": "2025-02-17T13:54:01.625696Z"
    }
   },
   "cell_type": "code",
   "source": [
    "model = Sequential()\n",
    "model.add(LSTM(64, input_shape=(1, data_train_reshape.shape[2]), return_sequences=True))\n",
    "model.add(LSTM(32, activation='tanh'))\n",
    "model.add(Dense(1, activation='relu'))\n",
    "\n",
    "model.compile(optimizer='adam', loss='mse')\n",
    "model.summary()"
   ],
   "id": "55df93f11dc13777",
   "outputs": [
    {
     "name": "stderr",
     "output_type": "stream",
     "text": [
      "C:\\Users\\sander.rikka\\gitrepo\\precipitation_prediction\\.venv\\Lib\\site-packages\\keras\\src\\layers\\rnn\\rnn.py:200: UserWarning: Do not pass an `input_shape`/`input_dim` argument to a layer. When using Sequential models, prefer using an `Input(shape)` object as the first layer in the model instead.\n",
      "  super().__init__(**kwargs)\n"
     ]
    },
    {
     "data": {
      "text/plain": [
       "\u001B[1mModel: \"sequential_5\"\u001B[0m\n"
      ],
      "text/html": [
       "<pre style=\"white-space:pre;overflow-x:auto;line-height:normal;font-family:Menlo,'DejaVu Sans Mono',consolas,'Courier New',monospace\"><span style=\"font-weight: bold\">Model: \"sequential_5\"</span>\n",
       "</pre>\n"
      ]
     },
     "metadata": {},
     "output_type": "display_data"
    },
    {
     "data": {
      "text/plain": [
       "┏━━━━━━━━━━━━━━━━━━━━━━━━━━━━━━━━━┳━━━━━━━━━━━━━━━━━━━━━━━━┳━━━━━━━━━━━━━━━┓\n",
       "┃\u001B[1m \u001B[0m\u001B[1mLayer (type)                   \u001B[0m\u001B[1m \u001B[0m┃\u001B[1m \u001B[0m\u001B[1mOutput Shape          \u001B[0m\u001B[1m \u001B[0m┃\u001B[1m \u001B[0m\u001B[1m      Param #\u001B[0m\u001B[1m \u001B[0m┃\n",
       "┡━━━━━━━━━━━━━━━━━━━━━━━━━━━━━━━━━╇━━━━━━━━━━━━━━━━━━━━━━━━╇━━━━━━━━━━━━━━━┩\n",
       "│ lstm_5 (\u001B[38;5;33mLSTM\u001B[0m)                   │ (\u001B[38;5;45mNone\u001B[0m, \u001B[38;5;34m1\u001B[0m, \u001B[38;5;34m64\u001B[0m)          │        \u001B[38;5;34m40,448\u001B[0m │\n",
       "├─────────────────────────────────┼────────────────────────┼───────────────┤\n",
       "│ lstm_6 (\u001B[38;5;33mLSTM\u001B[0m)                   │ (\u001B[38;5;45mNone\u001B[0m, \u001B[38;5;34m32\u001B[0m)             │        \u001B[38;5;34m12,416\u001B[0m │\n",
       "├─────────────────────────────────┼────────────────────────┼───────────────┤\n",
       "│ dense_3 (\u001B[38;5;33mDense\u001B[0m)                 │ (\u001B[38;5;45mNone\u001B[0m, \u001B[38;5;34m1\u001B[0m)              │            \u001B[38;5;34m33\u001B[0m │\n",
       "└─────────────────────────────────┴────────────────────────┴───────────────┘\n"
      ],
      "text/html": [
       "<pre style=\"white-space:pre;overflow-x:auto;line-height:normal;font-family:Menlo,'DejaVu Sans Mono',consolas,'Courier New',monospace\">┏━━━━━━━━━━━━━━━━━━━━━━━━━━━━━━━━━┳━━━━━━━━━━━━━━━━━━━━━━━━┳━━━━━━━━━━━━━━━┓\n",
       "┃<span style=\"font-weight: bold\"> Layer (type)                    </span>┃<span style=\"font-weight: bold\"> Output Shape           </span>┃<span style=\"font-weight: bold\">       Param # </span>┃\n",
       "┡━━━━━━━━━━━━━━━━━━━━━━━━━━━━━━━━━╇━━━━━━━━━━━━━━━━━━━━━━━━╇━━━━━━━━━━━━━━━┩\n",
       "│ lstm_5 (<span style=\"color: #0087ff; text-decoration-color: #0087ff\">LSTM</span>)                   │ (<span style=\"color: #00d7ff; text-decoration-color: #00d7ff\">None</span>, <span style=\"color: #00af00; text-decoration-color: #00af00\">1</span>, <span style=\"color: #00af00; text-decoration-color: #00af00\">64</span>)          │        <span style=\"color: #00af00; text-decoration-color: #00af00\">40,448</span> │\n",
       "├─────────────────────────────────┼────────────────────────┼───────────────┤\n",
       "│ lstm_6 (<span style=\"color: #0087ff; text-decoration-color: #0087ff\">LSTM</span>)                   │ (<span style=\"color: #00d7ff; text-decoration-color: #00d7ff\">None</span>, <span style=\"color: #00af00; text-decoration-color: #00af00\">32</span>)             │        <span style=\"color: #00af00; text-decoration-color: #00af00\">12,416</span> │\n",
       "├─────────────────────────────────┼────────────────────────┼───────────────┤\n",
       "│ dense_3 (<span style=\"color: #0087ff; text-decoration-color: #0087ff\">Dense</span>)                 │ (<span style=\"color: #00d7ff; text-decoration-color: #00d7ff\">None</span>, <span style=\"color: #00af00; text-decoration-color: #00af00\">1</span>)              │            <span style=\"color: #00af00; text-decoration-color: #00af00\">33</span> │\n",
       "└─────────────────────────────────┴────────────────────────┴───────────────┘\n",
       "</pre>\n"
      ]
     },
     "metadata": {},
     "output_type": "display_data"
    },
    {
     "data": {
      "text/plain": [
       "\u001B[1m Total params: \u001B[0m\u001B[38;5;34m52,897\u001B[0m (206.63 KB)\n"
      ],
      "text/html": [
       "<pre style=\"white-space:pre;overflow-x:auto;line-height:normal;font-family:Menlo,'DejaVu Sans Mono',consolas,'Courier New',monospace\"><span style=\"font-weight: bold\"> Total params: </span><span style=\"color: #00af00; text-decoration-color: #00af00\">52,897</span> (206.63 KB)\n",
       "</pre>\n"
      ]
     },
     "metadata": {},
     "output_type": "display_data"
    },
    {
     "data": {
      "text/plain": [
       "\u001B[1m Trainable params: \u001B[0m\u001B[38;5;34m52,897\u001B[0m (206.63 KB)\n"
      ],
      "text/html": [
       "<pre style=\"white-space:pre;overflow-x:auto;line-height:normal;font-family:Menlo,'DejaVu Sans Mono',consolas,'Courier New',monospace\"><span style=\"font-weight: bold\"> Trainable params: </span><span style=\"color: #00af00; text-decoration-color: #00af00\">52,897</span> (206.63 KB)\n",
       "</pre>\n"
      ]
     },
     "metadata": {},
     "output_type": "display_data"
    },
    {
     "data": {
      "text/plain": [
       "\u001B[1m Non-trainable params: \u001B[0m\u001B[38;5;34m0\u001B[0m (0.00 B)\n"
      ],
      "text/html": [
       "<pre style=\"white-space:pre;overflow-x:auto;line-height:normal;font-family:Menlo,'DejaVu Sans Mono',consolas,'Courier New',monospace\"><span style=\"font-weight: bold\"> Non-trainable params: </span><span style=\"color: #00af00; text-decoration-color: #00af00\">0</span> (0.00 B)\n",
       "</pre>\n"
      ]
     },
     "metadata": {},
     "output_type": "display_data"
    }
   ],
   "execution_count": 20
  },
  {
   "metadata": {
    "ExecuteTime": {
     "end_time": "2025-02-17T13:55:25.330902Z",
     "start_time": "2025-02-17T13:54:28.540427Z"
    }
   },
   "cell_type": "code",
   "source": [
    "\n",
    "systime = datetime.now()\n",
    "systimestr = datetime.strftime(systime, '%Y%m%dT%H%M')\n",
    "mdl_name = f'{systimestr}_simple_lstm'\n",
    "\n",
    "callbacks = EarlyStopping(monitor='val_loss', min_delta=0, patience=20, verbose=1, mode='auto', baseline=None, restore_best_weights=True)\n",
    "\n",
    "# Train the model\n",
    "history = model.fit(data_train_reshape,\n",
    "                    label_train,\n",
    "                    epochs=100,\n",
    "                    batch_size=32,\n",
    "                    validation_split=0.3,\n",
    "                    verbose=0)\n",
    "\n",
    "results_df = pd.DataFrame(history.history)\n",
    "results_csv_file = f'{mdl_name}_history.csv'\n",
    "with open(results_csv_file, mode='w') as f:\n",
    "   results_df.to_csv(f)"
   ],
   "id": "ddc9fd24c40f4f33",
   "outputs": [],
   "execution_count": 22
  },
  {
   "metadata": {
    "ExecuteTime": {
     "end_time": "2025-02-17T13:55:39.289423Z",
     "start_time": "2025-02-17T13:55:38.572301Z"
    }
   },
   "cell_type": "code",
   "source": [
    "y_hat = model.predict(data_test_reshape, verbose=0)\n",
    "accuracy = np.corrcoef(label_test, y_hat[:,0])[0, 1]\n",
    "rmse = np.sqrt(np.mean((label_test - y_hat[:,0])**2))\n",
    "print(f'Pearson correlation is {accuracy:.2f} and RMSE is {rmse:.2f}.')"
   ],
   "id": "6d2e251f7155be5d",
   "outputs": [
    {
     "name": "stdout",
     "output_type": "stream",
     "text": [
      "Pearson correlation is 0.75 and RMSE is 1.65.\n"
     ]
    }
   ],
   "execution_count": 23
  }
 ],
 "metadata": {
  "kernelspec": {
   "display_name": "Python 3",
   "language": "python",
   "name": "python3"
  },
  "language_info": {
   "codemirror_mode": {
    "name": "ipython",
    "version": 2
   },
   "file_extension": ".py",
   "mimetype": "text/x-python",
   "name": "python",
   "nbconvert_exporter": "python",
   "pygments_lexer": "ipython2",
   "version": "2.7.6"
  }
 },
 "nbformat": 4,
 "nbformat_minor": 5
}
